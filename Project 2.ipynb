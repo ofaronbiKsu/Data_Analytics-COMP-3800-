{
 "cells": [
  {
   "cell_type": "markdown",
   "id": "a70d3a3c",
   "metadata": {},
   "source": [
    "### Github link: https://github.com/ofaronbiKsu/Data_Analytics-COMP-3800-/blob/main/Project%202.ipynb"
   ]
  },
  {
   "cell_type": "markdown",
   "id": "879fbd88",
   "metadata": {},
   "source": [
    "# 1. Problem statement"
   ]
  },
  {
   "cell_type": "markdown",
   "id": "805e1886",
   "metadata": {},
   "source": [
    "## i) Describe the dataset\n",
    "\n",
    "###  The dataset includes records of traffic incidents, each characterized by a range of temporal, geographical, and demographic features. The primary attributes are as follows:\n",
    "### BOROUGH, LATITUDE, LONGITUDE, NUMBER OF PERSONS INJURED, NUMBER OF PERSONS KILLED, NUMBER OF PEDESTRIANS INJURED, NUMBER OF PEDESTRIANS KILLED, NUMBER OF CYCLIST INJURED, NUMBER OF CYCLIST KILLED, NUMBER OF MOTORIST INJURED, NUMBER OF MOTORIST KILLED, CRASH TIME, HIGH_CRASH\n",
    "\n",
    "### I will create more columns with the CRASH TIME, such as:\n",
    "### DAY_OF_WEEK, MONTH, IS_WEEKEND\n",
    "\n",
    "\n",
    "\n",
    "\n",
    "## ii) Analyze the target variable\n",
    "\n",
    "### My target variable is the highest crash: HIGH_CRASH.\n",
    "\n",
    "\n",
    "\n",
    "## iii) Prediction goal\n",
    "\n",
    "### The objective of this prediction is to determine if a specific time period, defined as a \"4-hour window,\" is likely to be categorized as a high-crash period. The target variable, HIGH_CRASH, is assigned a value of 1 if the number of incidents during the 4-hour window exceeds the median crash count, and 0 otherwise. This binary classification model aims to identify high-crash periods based on various features, including temporal, geographic, and incident-related factors."
   ]
  },
  {
   "cell_type": "markdown",
   "id": "1dc5fa66",
   "metadata": {},
   "source": [
    "# 2. Basic data cleaning"
   ]
  },
  {
   "cell_type": "markdown",
   "id": "f89e90c9",
   "metadata": {},
   "source": [
    "### Drop unwanted features.  Address missing values.  Remove Duplicates. Check if there are any inconsistent inputs for categorical variables. Transform categorical variables into numeric. Use boxplots or histogram to identify outliers for numeric variables and remove them. "
   ]
  },
  {
   "cell_type": "code",
   "execution_count": 1,
   "id": "af23be27",
   "metadata": {},
   "outputs": [],
   "source": [
    "import pandas as pd\n",
    "import numpy as np\n",
    "from datetime import datetime\n",
    "from sklearn.model_selection import train_test_split, StratifiedKFold, cross_val_score, GridSearchCV\n",
    "from sklearn.ensemble import GradientBoostingClassifier, RandomForestClassifier\n",
    "from sklearn.metrics import accuracy_score, f1_score, roc_auc_score, confusion_matrix, classification_report, make_scorer\n",
    "from sklearn.preprocessing import StandardScaler\n",
    "from imblearn.over_sampling import SMOTE\n",
    "import seaborn as sns\n",
    "import matplotlib.pyplot as plt"
   ]
  },
  {
   "cell_type": "code",
   "execution_count": 2,
   "id": "416bdcc5",
   "metadata": {},
   "outputs": [
    {
     "name": "stdout",
     "output_type": "stream",
     "text": [
      "Data size: 2131160\n",
      "New data size: 426232\n"
     ]
    }
   ],
   "source": [
    "# Drop unwanted features\n",
    "\n",
    "# Load data\n",
    "df = pd.read_csv('Motor_Vehicle_Collisions_-_Crashes.csv', low_memory=False)\n",
    "\n",
    "print('Data size:',len(df))\n",
    "\n",
    "# copy 20% of the data since it is too large\n",
    "data = df.sample(frac=0.2, random_state=42)\n",
    "\n",
    "print('New data size:',len(data))"
   ]
  },
  {
   "cell_type": "code",
   "execution_count": 3,
   "id": "28fe653c",
   "metadata": {},
   "outputs": [
    {
     "data": {
      "text/html": [
       "<div>\n",
       "<style scoped>\n",
       "    .dataframe tbody tr th:only-of-type {\n",
       "        vertical-align: middle;\n",
       "    }\n",
       "\n",
       "    .dataframe tbody tr th {\n",
       "        vertical-align: top;\n",
       "    }\n",
       "\n",
       "    .dataframe thead th {\n",
       "        text-align: right;\n",
       "    }\n",
       "</style>\n",
       "<table border=\"1\" class=\"dataframe\">\n",
       "  <thead>\n",
       "    <tr style=\"text-align: right;\">\n",
       "      <th></th>\n",
       "      <th>CRASH DATE</th>\n",
       "      <th>CRASH TIME</th>\n",
       "      <th>BOROUGH</th>\n",
       "      <th>ZIP CODE</th>\n",
       "      <th>LATITUDE</th>\n",
       "      <th>LONGITUDE</th>\n",
       "      <th>LOCATION</th>\n",
       "      <th>ON STREET NAME</th>\n",
       "      <th>CROSS STREET NAME</th>\n",
       "      <th>OFF STREET NAME</th>\n",
       "      <th>...</th>\n",
       "      <th>CONTRIBUTING FACTOR VEHICLE 2</th>\n",
       "      <th>CONTRIBUTING FACTOR VEHICLE 3</th>\n",
       "      <th>CONTRIBUTING FACTOR VEHICLE 4</th>\n",
       "      <th>CONTRIBUTING FACTOR VEHICLE 5</th>\n",
       "      <th>COLLISION_ID</th>\n",
       "      <th>VEHICLE TYPE CODE 1</th>\n",
       "      <th>VEHICLE TYPE CODE 2</th>\n",
       "      <th>VEHICLE TYPE CODE 3</th>\n",
       "      <th>VEHICLE TYPE CODE 4</th>\n",
       "      <th>VEHICLE TYPE CODE 5</th>\n",
       "    </tr>\n",
       "  </thead>\n",
       "  <tbody>\n",
       "    <tr>\n",
       "      <th>1271117</th>\n",
       "      <td>08/31/2015</td>\n",
       "      <td>7:12</td>\n",
       "      <td>BROOKLYN</td>\n",
       "      <td>11203</td>\n",
       "      <td>40.639510</td>\n",
       "      <td>-73.944442</td>\n",
       "      <td>(40.63951, -73.9444425)</td>\n",
       "      <td>VICTOR ROAD</td>\n",
       "      <td>EAST 34 STREET</td>\n",
       "      <td>NaN</td>\n",
       "      <td>...</td>\n",
       "      <td>Unspecified</td>\n",
       "      <td>NaN</td>\n",
       "      <td>NaN</td>\n",
       "      <td>NaN</td>\n",
       "      <td>3287542</td>\n",
       "      <td>PASSENGER VEHICLE</td>\n",
       "      <td>UNKNOWN</td>\n",
       "      <td>NaN</td>\n",
       "      <td>NaN</td>\n",
       "      <td>NaN</td>\n",
       "    </tr>\n",
       "    <tr>\n",
       "      <th>1986034</th>\n",
       "      <td>01/26/2023</td>\n",
       "      <td>8:29</td>\n",
       "      <td>NaN</td>\n",
       "      <td>NaN</td>\n",
       "      <td>40.602990</td>\n",
       "      <td>-74.121590</td>\n",
       "      <td>(40.60299, -74.12159)</td>\n",
       "      <td>QUEEN STREET</td>\n",
       "      <td>ELVIN STREET</td>\n",
       "      <td>NaN</td>\n",
       "      <td>...</td>\n",
       "      <td>Unspecified</td>\n",
       "      <td>NaN</td>\n",
       "      <td>NaN</td>\n",
       "      <td>NaN</td>\n",
       "      <td>4600659</td>\n",
       "      <td>Sedan</td>\n",
       "      <td>Sedan</td>\n",
       "      <td>NaN</td>\n",
       "      <td>NaN</td>\n",
       "      <td>NaN</td>\n",
       "    </tr>\n",
       "    <tr>\n",
       "      <th>2000631</th>\n",
       "      <td>03/05/2023</td>\n",
       "      <td>1:45</td>\n",
       "      <td>NaN</td>\n",
       "      <td>NaN</td>\n",
       "      <td>40.677715</td>\n",
       "      <td>-73.935870</td>\n",
       "      <td>(40.677715, -73.93587)</td>\n",
       "      <td>ATLANTIC AVENUE</td>\n",
       "      <td>NaN</td>\n",
       "      <td>NaN</td>\n",
       "      <td>...</td>\n",
       "      <td>Unsafe Speed</td>\n",
       "      <td>NaN</td>\n",
       "      <td>NaN</td>\n",
       "      <td>NaN</td>\n",
       "      <td>4610251</td>\n",
       "      <td>Sedan</td>\n",
       "      <td>Station Wagon/Sport Utility Vehicle</td>\n",
       "      <td>NaN</td>\n",
       "      <td>NaN</td>\n",
       "      <td>NaN</td>\n",
       "    </tr>\n",
       "    <tr>\n",
       "      <th>1355399</th>\n",
       "      <td>04/18/2015</td>\n",
       "      <td>1:11</td>\n",
       "      <td>BRONX</td>\n",
       "      <td>10465</td>\n",
       "      <td>40.878290</td>\n",
       "      <td>-73.870058</td>\n",
       "      <td>(40.8782895, -73.8700582)</td>\n",
       "      <td>EAST GUNHILL ROAD</td>\n",
       "      <td>BRONX RIVER PARKWAY</td>\n",
       "      <td>NaN</td>\n",
       "      <td>...</td>\n",
       "      <td>Unspecified</td>\n",
       "      <td>NaN</td>\n",
       "      <td>NaN</td>\n",
       "      <td>NaN</td>\n",
       "      <td>3204582</td>\n",
       "      <td>PASSENGER VEHICLE</td>\n",
       "      <td>SPORT UTILITY / STATION WAGON</td>\n",
       "      <td>NaN</td>\n",
       "      <td>NaN</td>\n",
       "      <td>NaN</td>\n",
       "    </tr>\n",
       "    <tr>\n",
       "      <th>748220</th>\n",
       "      <td>12/10/2017</td>\n",
       "      <td>5:00</td>\n",
       "      <td>BROOKLYN</td>\n",
       "      <td>11203</td>\n",
       "      <td>40.646862</td>\n",
       "      <td>-73.920950</td>\n",
       "      <td>(40.646862, -73.92095)</td>\n",
       "      <td>NaN</td>\n",
       "      <td>NaN</td>\n",
       "      <td>5912      BEVERLEY ROAD</td>\n",
       "      <td>...</td>\n",
       "      <td>Unspecified</td>\n",
       "      <td>Unspecified</td>\n",
       "      <td>NaN</td>\n",
       "      <td>NaN</td>\n",
       "      <td>3806762</td>\n",
       "      <td>Sedan</td>\n",
       "      <td>Station Wagon/Sport Utility Vehicle</td>\n",
       "      <td>Station Wagon/Sport Utility Vehicle</td>\n",
       "      <td>NaN</td>\n",
       "      <td>NaN</td>\n",
       "    </tr>\n",
       "  </tbody>\n",
       "</table>\n",
       "<p>5 rows × 29 columns</p>\n",
       "</div>"
      ],
      "text/plain": [
       "         CRASH DATE CRASH TIME   BOROUGH ZIP CODE   LATITUDE  LONGITUDE  \\\n",
       "1271117  08/31/2015       7:12  BROOKLYN    11203  40.639510 -73.944442   \n",
       "1986034  01/26/2023       8:29       NaN      NaN  40.602990 -74.121590   \n",
       "2000631  03/05/2023       1:45       NaN      NaN  40.677715 -73.935870   \n",
       "1355399  04/18/2015       1:11     BRONX    10465  40.878290 -73.870058   \n",
       "748220   12/10/2017       5:00  BROOKLYN    11203  40.646862 -73.920950   \n",
       "\n",
       "                          LOCATION                    ON STREET NAME  \\\n",
       "1271117    (40.63951, -73.9444425)  VICTOR ROAD                        \n",
       "1986034      (40.60299, -74.12159)                      QUEEN STREET   \n",
       "2000631     (40.677715, -73.93587)                   ATLANTIC AVENUE   \n",
       "1355399  (40.8782895, -73.8700582)  EAST GUNHILL ROAD                  \n",
       "748220      (40.646862, -73.92095)                               NaN   \n",
       "\n",
       "                        CROSS STREET NAME  \\\n",
       "1271117  EAST 34 STREET                     \n",
       "1986034                      ELVIN STREET   \n",
       "2000631                               NaN   \n",
       "1355399  BRONX RIVER PARKWAY                \n",
       "748220                                NaN   \n",
       "\n",
       "                                  OFF STREET NAME  ...  \\\n",
       "1271117                                       NaN  ...   \n",
       "1986034                                       NaN  ...   \n",
       "2000631                                       NaN  ...   \n",
       "1355399                                       NaN  ...   \n",
       "748220   5912      BEVERLEY ROAD                   ...   \n",
       "\n",
       "         CONTRIBUTING FACTOR VEHICLE 2  CONTRIBUTING FACTOR VEHICLE 3  \\\n",
       "1271117                    Unspecified                            NaN   \n",
       "1986034                    Unspecified                            NaN   \n",
       "2000631                   Unsafe Speed                            NaN   \n",
       "1355399                    Unspecified                            NaN   \n",
       "748220                     Unspecified                    Unspecified   \n",
       "\n",
       "         CONTRIBUTING FACTOR VEHICLE 4  CONTRIBUTING FACTOR VEHICLE 5  \\\n",
       "1271117                            NaN                            NaN   \n",
       "1986034                            NaN                            NaN   \n",
       "2000631                            NaN                            NaN   \n",
       "1355399                            NaN                            NaN   \n",
       "748220                             NaN                            NaN   \n",
       "\n",
       "         COLLISION_ID  VEHICLE TYPE CODE 1  \\\n",
       "1271117       3287542    PASSENGER VEHICLE   \n",
       "1986034       4600659                Sedan   \n",
       "2000631       4610251                Sedan   \n",
       "1355399       3204582    PASSENGER VEHICLE   \n",
       "748220        3806762                Sedan   \n",
       "\n",
       "                         VEHICLE TYPE CODE 2  \\\n",
       "1271117                              UNKNOWN   \n",
       "1986034                                Sedan   \n",
       "2000631  Station Wagon/Sport Utility Vehicle   \n",
       "1355399        SPORT UTILITY / STATION WAGON   \n",
       "748220   Station Wagon/Sport Utility Vehicle   \n",
       "\n",
       "                         VEHICLE TYPE CODE 3 VEHICLE TYPE CODE 4  \\\n",
       "1271117                                  NaN                 NaN   \n",
       "1986034                                  NaN                 NaN   \n",
       "2000631                                  NaN                 NaN   \n",
       "1355399                                  NaN                 NaN   \n",
       "748220   Station Wagon/Sport Utility Vehicle                 NaN   \n",
       "\n",
       "        VEHICLE TYPE CODE 5  \n",
       "1271117                 NaN  \n",
       "1986034                 NaN  \n",
       "2000631                 NaN  \n",
       "1355399                 NaN  \n",
       "748220                  NaN  \n",
       "\n",
       "[5 rows x 29 columns]"
      ]
     },
     "execution_count": 3,
     "metadata": {},
     "output_type": "execute_result"
    }
   ],
   "source": [
    "# Date Overview\n",
    "data.head()"
   ]
  },
  {
   "cell_type": "code",
   "execution_count": 4,
   "id": "3e52b53f",
   "metadata": {},
   "outputs": [
    {
     "data": {
      "text/plain": [
       "CRASH DATE                        object\n",
       "CRASH TIME                        object\n",
       "BOROUGH                           object\n",
       "ZIP CODE                          object\n",
       "LATITUDE                         float64\n",
       "LONGITUDE                        float64\n",
       "LOCATION                          object\n",
       "ON STREET NAME                    object\n",
       "CROSS STREET NAME                 object\n",
       "OFF STREET NAME                   object\n",
       "NUMBER OF PERSONS INJURED        float64\n",
       "NUMBER OF PERSONS KILLED         float64\n",
       "NUMBER OF PEDESTRIANS INJURED      int64\n",
       "NUMBER OF PEDESTRIANS KILLED       int64\n",
       "NUMBER OF CYCLIST INJURED          int64\n",
       "NUMBER OF CYCLIST KILLED           int64\n",
       "NUMBER OF MOTORIST INJURED         int64\n",
       "NUMBER OF MOTORIST KILLED          int64\n",
       "CONTRIBUTING FACTOR VEHICLE 1     object\n",
       "CONTRIBUTING FACTOR VEHICLE 2     object\n",
       "CONTRIBUTING FACTOR VEHICLE 3     object\n",
       "CONTRIBUTING FACTOR VEHICLE 4     object\n",
       "CONTRIBUTING FACTOR VEHICLE 5     object\n",
       "COLLISION_ID                       int64\n",
       "VEHICLE TYPE CODE 1               object\n",
       "VEHICLE TYPE CODE 2               object\n",
       "VEHICLE TYPE CODE 3               object\n",
       "VEHICLE TYPE CODE 4               object\n",
       "VEHICLE TYPE CODE 5               object\n",
       "dtype: object"
      ]
     },
     "execution_count": 4,
     "metadata": {},
     "output_type": "execute_result"
    }
   ],
   "source": [
    "# Date types\n",
    "data.dtypes"
   ]
  },
  {
   "cell_type": "code",
   "execution_count": 5,
   "id": "68fcd1e8",
   "metadata": {},
   "outputs": [
    {
     "data": {
      "image/png": "[encoded data removed]",
      "text/plain": [
       "<Figure size 576x288 with 1 Axes>"
      ]
     },
     "metadata": {
      "needs_background": "light"
     },
     "output_type": "display_data"
    },
    {
     "data": {
      "image/png": "[encoded data removed]",
      "text/plain": [
       "<Figure size 576x288 with 1 Axes>"
      ]
     },
     "metadata": {
      "needs_background": "light"
     },
     "output_type": "display_data"
    },
    {
     "data": {
      "image/png": "[encoded data removed]",
      "text/plain": [
       "<Figure size 576x288 with 1 Axes>"
      ]
     },
     "metadata": {
      "needs_background": "light"
     },
     "output_type": "display_data"
    },
    {
     "data": {
      "image/png": "[encoded data removed]",
      "text/plain": [
       "<Figure size 576x288 with 1 Axes>"
      ]
     },
     "metadata": {
      "needs_background": "light"
     },
     "output_type": "display_data"
    },
    {
     "data": {
      "image/png": "[encoded data removed]",
      "text/plain": [
       "<Figure size 576x288 with 1 Axes>"
      ]
     },
     "metadata": {
      "needs_background": "light"
     },
     "output_type": "display_data"
    },
    {
     "data": {
      "image/png": "[encoded data removed]",
      "text/plain": [
       "<Figure size 576x288 with 1 Axes>"
      ]
     },
     "metadata": {
      "needs_background": "light"
     },
     "output_type": "display_data"
    },
    {
     "data": {
      "image/png": "[encoded data removed]",
      "text/plain": [
       "<Figure size 576x288 with 1 Axes>"
      ]
     },
     "metadata": {
      "needs_background": "light"
     },
     "output_type": "display_data"
    },
    {
     "data": {
      "image/png": "[encoded data removed]",
      "text/plain": [
       "<Figure size 576x288 with 1 Axes>"
      ]
     },
     "metadata": {
      "needs_background": "light"
     },
     "output_type": "display_data"
    },
    {
     "data": {
      "image/png": "[encoded data removed]",
      "text/plain": [
       "<Figure size 576x288 with 1 Axes>"
      ]
     },
     "metadata": {
      "needs_background": "light"
     },
     "output_type": "display_data"
    },
    {
     "data": {
      "image/png": "[encoded data removed]",
      "text/plain": [
       "<Figure size 576x288 with 1 Axes>"
      ]
     },
     "metadata": {
      "needs_background": "light"
     },
     "output_type": "display_data"
    },
    {
     "data": {
      "image/png": "[encoded data removed]",
      "text/plain": [
       "<Figure size 576x288 with 1 Axes>"
      ]
     },
     "metadata": {
      "needs_background": "light"
     },
     "output_type": "display_data"
    }
   ],
   "source": [
    "# Address missing values\n",
    "\n",
    "# Drop unwanted columns \n",
    "columns_to_drop = [\n",
    "    'ZIP CODE', 'LOCATION', 'ON STREET NAME', 'CROSS STREET NAME', 'OFF STREET NAME', \n",
    "    'CONTRIBUTING FACTOR VEHICLE 1', 'CONTRIBUTING FACTOR VEHICLE 2', \n",
    "    'CONTRIBUTING FACTOR VEHICLE 3', 'CONTRIBUTING FACTOR VEHICLE 4', \n",
    "    'CONTRIBUTING FACTOR VEHICLE 5', 'COLLISION_ID', \n",
    "    'VEHICLE TYPE CODE 1', 'VEHICLE TYPE CODE 2', 'VEHICLE TYPE CODE 3', \n",
    "    'VEHICLE TYPE CODE 4', 'VEHICLE TYPE CODE 5'\n",
    "]\n",
    "data = data.drop(columns=columns_to_drop, errors='ignore')\n",
    "\n",
    "# Remove rows where CRASH DATE, CRASH TIME and BOROUGH are not given.\n",
    "data = data.dropna(subset=['CRASH DATE', 'CRASH TIME', 'BOROUGH'])\n",
    "\n",
    "\n",
    "# Transform BOROUGH categorical variables into numeric.\n",
    "data.loc[:, 'BOROUGH'] = data['BOROUGH'].astype('category').cat.codes\n",
    "\n",
    "# Remove Duplicates.\n",
    "data = data.drop_duplicates()\n",
    "\n",
    "# Use boxplots or histogram to identify outliers for numeric variables and remove them\n",
    "numeric_columns = ['BOROUGH', 'LATITUDE', 'LONGITUDE', 'NUMBER OF PERSONS INJURED', 'NUMBER OF PERSONS KILLED', \n",
    "            'NUMBER OF PEDESTRIANS INJURED', 'NUMBER OF PEDESTRIANS KILLED', \n",
    "            'NUMBER OF CYCLIST INJURED', 'NUMBER OF CYCLIST KILLED', \n",
    "            'NUMBER OF MOTORIST INJURED', 'NUMBER OF MOTORIST KILLED']\n",
    "\n",
    "\n",
    "# Plot boxplots for numeric columns\n",
    "for col in numeric_columns:\n",
    "    plt.figure(figsize=(8, 4))\n",
    "    sns.boxplot(x=data[col])\n",
    "    plt.title(f'Boxplot of {col}')\n",
    "    plt.show()\n",
    "\n",
    "def remove_outliers(dfs, columns, threshold=1.5):\n",
    "    for col in columns:\n",
    "        Q1 = dfs[col].quantile(0.25)\n",
    "        Q3 = dfs[col].quantile(0.75)\n",
    "        IQR = Q3 - Q1\n",
    "        lower_bound = Q1 - threshold * IQR\n",
    "        upper_bound = Q3 + threshold * IQR\n",
    "        dfs = dfs[(dfs[col] >= lower_bound) & (dfs[col] <= upper_bound)]\n",
    "    return dfs \n",
    "\n",
    "# Remove outliers\n",
    "data = remove_outliers(data, numeric_columns)"
   ]
  },
  {
   "cell_type": "markdown",
   "id": "2cbac35e",
   "metadata": {},
   "source": [
    "# 3. Feature Engineering. "
   ]
  },
  {
   "cell_type": "markdown",
   "id": "396c8a16",
   "metadata": {},
   "source": [
    "### Feature selection. Use graphs, ANOVA test, Chi-squared test to reduce the dimension. Any variables with zero to little variance?  Any features Irrelevant to the target variable? Any high-correlated Features?   Feature scaling. Does this algorithm require normalized data or standardized data? Are there any categorical variables need to be changed to dummy variables?\n"
   ]
  },
  {
   "cell_type": "code",
   "execution_count": 6,
   "id": "6cc50478",
   "metadata": {},
   "outputs": [
    {
     "data": {
      "text/html": [
       "<div>\n",
       "<style scoped>\n",
       "    .dataframe tbody tr th:only-of-type {\n",
       "        vertical-align: middle;\n",
       "    }\n",
       "\n",
       "    .dataframe tbody tr th {\n",
       "        vertical-align: top;\n",
       "    }\n",
       "\n",
       "    .dataframe thead th {\n",
       "        text-align: right;\n",
       "    }\n",
       "</style>\n",
       "<table border=\"1\" class=\"dataframe\">\n",
       "  <thead>\n",
       "    <tr style=\"text-align: right;\">\n",
       "      <th></th>\n",
       "      <th>CRASH DATE</th>\n",
       "      <th>CRASH TIME</th>\n",
       "      <th>BOROUGH</th>\n",
       "      <th>LATITUDE</th>\n",
       "      <th>LONGITUDE</th>\n",
       "      <th>NUMBER OF PERSONS INJURED</th>\n",
       "      <th>NUMBER OF PERSONS KILLED</th>\n",
       "      <th>NUMBER OF PEDESTRIANS INJURED</th>\n",
       "      <th>NUMBER OF PEDESTRIANS KILLED</th>\n",
       "      <th>NUMBER OF CYCLIST INJURED</th>\n",
       "      <th>NUMBER OF CYCLIST KILLED</th>\n",
       "      <th>NUMBER OF MOTORIST INJURED</th>\n",
       "      <th>NUMBER OF MOTORIST KILLED</th>\n",
       "      <th>CRASH_DATETIME</th>\n",
       "      <th>HOUR</th>\n",
       "      <th>4HR_WINDOW</th>\n",
       "      <th>DAY_OF_WEEK</th>\n",
       "      <th>MONTH</th>\n",
       "      <th>IS_WEEKEND</th>\n",
       "      <th>HIGH_CRASH</th>\n",
       "    </tr>\n",
       "  </thead>\n",
       "  <tbody>\n",
       "    <tr>\n",
       "      <th>1271117</th>\n",
       "      <td>08/31/2015</td>\n",
       "      <td>7:12</td>\n",
       "      <td>1</td>\n",
       "      <td>40.639510</td>\n",
       "      <td>-73.944442</td>\n",
       "      <td>0.0</td>\n",
       "      <td>0.0</td>\n",
       "      <td>0</td>\n",
       "      <td>0</td>\n",
       "      <td>0</td>\n",
       "      <td>0</td>\n",
       "      <td>0</td>\n",
       "      <td>0</td>\n",
       "      <td>2015-08-31 07:12:00</td>\n",
       "      <td>7</td>\n",
       "      <td>1</td>\n",
       "      <td>0</td>\n",
       "      <td>8</td>\n",
       "      <td>0</td>\n",
       "      <td>0</td>\n",
       "    </tr>\n",
       "    <tr>\n",
       "      <th>1355399</th>\n",
       "      <td>04/18/2015</td>\n",
       "      <td>1:11</td>\n",
       "      <td>0</td>\n",
       "      <td>40.878290</td>\n",
       "      <td>-73.870058</td>\n",
       "      <td>0.0</td>\n",
       "      <td>0.0</td>\n",
       "      <td>0</td>\n",
       "      <td>0</td>\n",
       "      <td>0</td>\n",
       "      <td>0</td>\n",
       "      <td>0</td>\n",
       "      <td>0</td>\n",
       "      <td>2015-04-18 01:11:00</td>\n",
       "      <td>1</td>\n",
       "      <td>0</td>\n",
       "      <td>5</td>\n",
       "      <td>4</td>\n",
       "      <td>1</td>\n",
       "      <td>0</td>\n",
       "    </tr>\n",
       "    <tr>\n",
       "      <th>748220</th>\n",
       "      <td>12/10/2017</td>\n",
       "      <td>5:00</td>\n",
       "      <td>1</td>\n",
       "      <td>40.646862</td>\n",
       "      <td>-73.920950</td>\n",
       "      <td>0.0</td>\n",
       "      <td>0.0</td>\n",
       "      <td>0</td>\n",
       "      <td>0</td>\n",
       "      <td>0</td>\n",
       "      <td>0</td>\n",
       "      <td>0</td>\n",
       "      <td>0</td>\n",
       "      <td>2017-12-10 05:00:00</td>\n",
       "      <td>5</td>\n",
       "      <td>1</td>\n",
       "      <td>6</td>\n",
       "      <td>12</td>\n",
       "      <td>1</td>\n",
       "      <td>0</td>\n",
       "    </tr>\n",
       "    <tr>\n",
       "      <th>322161</th>\n",
       "      <td>10/18/2019</td>\n",
       "      <td>17:00</td>\n",
       "      <td>1</td>\n",
       "      <td>40.673070</td>\n",
       "      <td>-73.930730</td>\n",
       "      <td>0.0</td>\n",
       "      <td>0.0</td>\n",
       "      <td>0</td>\n",
       "      <td>0</td>\n",
       "      <td>0</td>\n",
       "      <td>0</td>\n",
       "      <td>0</td>\n",
       "      <td>0</td>\n",
       "      <td>2019-10-18 17:00:00</td>\n",
       "      <td>17</td>\n",
       "      <td>4</td>\n",
       "      <td>4</td>\n",
       "      <td>10</td>\n",
       "      <td>0</td>\n",
       "      <td>1</td>\n",
       "    </tr>\n",
       "    <tr>\n",
       "      <th>581205</th>\n",
       "      <td>09/05/2018</td>\n",
       "      <td>11:30</td>\n",
       "      <td>0</td>\n",
       "      <td>40.822300</td>\n",
       "      <td>-73.873000</td>\n",
       "      <td>0.0</td>\n",
       "      <td>0.0</td>\n",
       "      <td>0</td>\n",
       "      <td>0</td>\n",
       "      <td>0</td>\n",
       "      <td>0</td>\n",
       "      <td>0</td>\n",
       "      <td>0</td>\n",
       "      <td>2018-09-05 11:30:00</td>\n",
       "      <td>11</td>\n",
       "      <td>2</td>\n",
       "      <td>2</td>\n",
       "      <td>9</td>\n",
       "      <td>0</td>\n",
       "      <td>1</td>\n",
       "    </tr>\n",
       "  </tbody>\n",
       "</table>\n",
       "</div>"
      ],
      "text/plain": [
       "         CRASH DATE CRASH TIME  BOROUGH   LATITUDE  LONGITUDE  \\\n",
       "1271117  08/31/2015       7:12        1  40.639510 -73.944442   \n",
       "1355399  04/18/2015       1:11        0  40.878290 -73.870058   \n",
       "748220   12/10/2017       5:00        1  40.646862 -73.920950   \n",
       "322161   10/18/2019      17:00        1  40.673070 -73.930730   \n",
       "581205   09/05/2018      11:30        0  40.822300 -73.873000   \n",
       "\n",
       "         NUMBER OF PERSONS INJURED  NUMBER OF PERSONS KILLED  \\\n",
       "1271117                        0.0                       0.0   \n",
       "1355399                        0.0                       0.0   \n",
       "748220                         0.0                       0.0   \n",
       "322161                         0.0                       0.0   \n",
       "581205                         0.0                       0.0   \n",
       "\n",
       "         NUMBER OF PEDESTRIANS INJURED  NUMBER OF PEDESTRIANS KILLED  \\\n",
       "1271117                              0                             0   \n",
       "1355399                              0                             0   \n",
       "748220                               0                             0   \n",
       "322161                               0                             0   \n",
       "581205                               0                             0   \n",
       "\n",
       "         NUMBER OF CYCLIST INJURED  NUMBER OF CYCLIST KILLED  \\\n",
       "1271117                          0                         0   \n",
       "1355399                          0                         0   \n",
       "748220                           0                         0   \n",
       "322161                           0                         0   \n",
       "581205                           0                         0   \n",
       "\n",
       "         NUMBER OF MOTORIST INJURED  NUMBER OF MOTORIST KILLED  \\\n",
       "1271117                           0                          0   \n",
       "1355399                           0                          0   \n",
       "748220                            0                          0   \n",
       "322161                            0                          0   \n",
       "581205                            0                          0   \n",
       "\n",
       "             CRASH_DATETIME  HOUR  4HR_WINDOW  DAY_OF_WEEK  MONTH  IS_WEEKEND  \\\n",
       "1271117 2015-08-31 07:12:00     7           1            0      8           0   \n",
       "1355399 2015-04-18 01:11:00     1           0            5      4           1   \n",
       "748220  2017-12-10 05:00:00     5           1            6     12           1   \n",
       "322161  2019-10-18 17:00:00    17           4            4     10           0   \n",
       "581205  2018-09-05 11:30:00    11           2            2      9           0   \n",
       "\n",
       "         HIGH_CRASH  \n",
       "1271117           0  \n",
       "1355399           0  \n",
       "748220            0  \n",
       "322161            1  \n",
       "581205            1  "
      ]
     },
     "execution_count": 6,
     "metadata": {},
     "output_type": "execute_result"
    }
   ],
   "source": [
    "# Data preparation\n",
    "data['CRASH_DATETIME'] = pd.to_datetime(data['CRASH DATE'].str.cat(data['CRASH TIME'], sep=' '), errors='coerce')\n",
    "data = data.dropna(subset=['CRASH_DATETIME'])\n",
    "data['HOUR'] = data['CRASH_DATETIME'].dt.hour\n",
    "data['4HR_WINDOW'] = data['HOUR'] // 4\n",
    "data['DAY_OF_WEEK'] = data['CRASH_DATETIME'].dt.dayofweek\n",
    "data['MONTH'] = data['CRASH_DATETIME'].dt.month\n",
    "data['IS_WEEKEND'] = data['DAY_OF_WEEK'].isin([5, 6]).astype(int)\n",
    "\n",
    "# Calculate crash counts per 4-hour window\n",
    "window_crash_counts = data.groupby('4HR_WINDOW').size().reset_index(name='CRASH_COUNT')\n",
    "\n",
    "# Calculate the median crash count\n",
    "median_crash_count = window_crash_counts['CRASH_COUNT'].median()\n",
    "\n",
    "# Create the 'HIGH_CRASH' column\n",
    "data['HIGH_CRASH'] = (data['4HR_WINDOW'].map(window_crash_counts.set_index('4HR_WINDOW')['CRASH_COUNT']) > median_crash_count).astype(int)\n",
    "\n",
    "# Target variable \n",
    "\n",
    "\n",
    "data.head()"
   ]
  },
  {
   "cell_type": "code",
   "execution_count": 7,
   "id": "45536f40",
   "metadata": {},
   "outputs": [
    {
     "data": {
      "image/png": "[encoded data removed]",
      "text/plain": [
       "<Figure size 864x576 with 1 Axes>"
      ]
     },
     "metadata": {
      "needs_background": "light"
     },
     "output_type": "display_data"
    },
    {
     "name": "stdout",
     "output_type": "stream",
     "text": [
      "\n",
      "There is high correlation between crashes and crash time (4HR_WINDOW).\n",
      "This algorithm does not require data normalization or standardization.\n",
      "There are no categorical variables that need to be changed to dummy variables.\n"
     ]
    }
   ],
   "source": [
    "# Plot crash counts per 4-hour window to visualize the peak periods\n",
    "fig, ax = plt.subplots(figsize=(12, 8))\n",
    "sns.barplot(x='4HR_WINDOW', y='CRASH_COUNT', data=window_crash_counts)\n",
    "plt.xlabel('4-Hour Window', size= 16)\n",
    "plt.ylabel('Number of Crashes', size= 16)\n",
    "plt.title('Number of Crashes by 4-Hour Window', size=20)\n",
    "plt.show()\n",
    "\n",
    "print('\\nThere is high correlation between crashes and crash time (4HR_WINDOW).')\n",
    "print('This algorithm does not require data normalization or standardization.')\n",
    "print('There are no categorical variables that need to be changed to dummy variables.')"
   ]
  },
  {
   "cell_type": "markdown",
   "id": "6c5cab84",
   "metadata": {},
   "source": [
    "# 4. Build the prediction model\n"
   ]
  },
  {
   "cell_type": "markdown",
   "id": "76c721e4",
   "metadata": {},
   "source": [
    "### Does this data need to be balanced? Do you use train_test_split or cross validation to validate the result?Which algorithm is appropriate for this problem? Which metrics do you use to evaluate the prediction model? If the accuracy score or r-squared score is low, generally it is considered as a bad model. Explain why your model failed. \n"
   ]
  },
  {
   "cell_type": "code",
   "execution_count": 8,
   "id": "b17cce10",
   "metadata": {},
   "outputs": [
    {
     "name": "stdout",
     "output_type": "stream",
     "text": [
      "Cross-validated F1 Score: 0.8422377876512396\n",
      "Accuracy: 0.6595173642442331\n",
      "F1 Score: 0.7707645336158016\n",
      "ROC AUC Score: 0.5761808893479964\n",
      "Classification Report:\n",
      "               precision    recall  f1-score   support\n",
      "\n",
      "           0       0.36      0.32      0.34     11779\n",
      "           1       0.76      0.79      0.77     31442\n",
      "\n",
      "    accuracy                           0.66     43221\n",
      "   macro avg       0.56      0.55      0.55     43221\n",
      "weighted avg       0.65      0.66      0.65     43221\n",
      "\n",
      "Confusion Matrix:\n",
      " [[ 3765  8014]\n",
      " [ 6702 24740]]\n"
     ]
    },
    {
     "data": {
      "image/png": "[encoded data removed]",
      "text/plain": [
       "<Figure size 432x288 with 1 Axes>"
      ]
     },
     "metadata": {
      "needs_background": "light"
     },
     "output_type": "display_data"
    }
   ],
   "source": [
    "# Feature \n",
    "features = ['BOROUGH','LATITUDE', 'LONGITUDE', 'NUMBER OF PERSONS INJURED', 'NUMBER OF PERSONS KILLED',\n",
    "            'NUMBER OF PEDESTRIANS INJURED', 'NUMBER OF PEDESTRIANS KILLED', 'NUMBER OF CYCLIST INJURED',\n",
    "            'NUMBER OF CYCLIST KILLED', 'NUMBER OF MOTORIST INJURED', 'NUMBER OF MOTORIST KILLED', 'DAY_OF_WEEK',\n",
    "            'MONTH', 'IS_WEEKEND']\n",
    "X = data[features]\n",
    "\n",
    "# Target\n",
    "y = data['HIGH_CRASH']\n",
    "\n",
    "# Train-test split with SMOTE\n",
    "X_train, X_test, y_train, y_test = train_test_split(X, y, test_size=0.2, random_state=42)\n",
    "smote = SMOTE(random_state=42)\n",
    "X_train_res, y_train_res = smote.fit_resample(X_train, y_train)\n",
    "\n",
    "\n",
    "# Adjust param_grid as needed to explore more models\n",
    "param_grid = [{\n",
    "    'max_depth': [4, 5, 6],\n",
    "    'max_features': ['sqrt', 'log2'],\n",
    "    'min_samples_split': [200, 300, 400],\n",
    "    'min_samples_leaf': [200, 300, 400],\n",
    "    'n_estimators': [10, 20, 50]\n",
    "}]\n",
    "\n",
    "# Using GridSearchCV with F1 as scoring and StratifiedKFold\n",
    "grid_search = GridSearchCV(GradientBoostingClassifier(), param_grid, cv=StratifiedKFold(n_splits=5), scoring='f1', n_jobs=-1)\n",
    "grid_search.fit(X_train_res, y_train_res)\n",
    "best_model = grid_search.best_estimator_\n",
    "\n",
    "# Cross-validation with additional metrics\n",
    "scoring = {\n",
    "    'accuracy': make_scorer(accuracy_score),\n",
    "    'f1': make_scorer(f1_score),\n",
    "    'roc_auc': make_scorer(roc_auc_score, needs_proba=True)\n",
    "}\n",
    "cv_results = cross_val_score(best_model, X_test, y_test, cv=StratifiedKFold(n_splits=5), scoring='f1')\n",
    "print(\"Cross-validated F1 Score:\", np.mean(cv_results))\n",
    "\n",
    "# Model evaluation on test data\n",
    "y_pred = best_model.predict(X_test)\n",
    "y_pred_proba = best_model.predict_proba(X_test)[:, 1]\n",
    "\n",
    "print(\"Accuracy:\", accuracy_score(y_test, y_pred))\n",
    "print(\"F1 Score:\", f1_score(y_test, y_pred))\n",
    "print(\"ROC AUC Score:\", roc_auc_score(y_test, y_pred_proba))\n",
    "print(\"Classification Report:\\n\", classification_report(y_test, y_pred))\n",
    "print(\"Confusion Matrix:\\n\", confusion_matrix(y_test, y_pred))\n",
    "\n",
    "# Plot result\n",
    "feature_importance = pd.Series(best_model.feature_importances_, index=features).sort_values(ascending=False)\n",
    "sns.barplot(x=feature_importance, y=feature_importance.index)\n",
    "plt.xlabel('Feature Importance Score')\n",
    "plt.ylabel('Features')\n",
    "plt.title('Important Features for Crash Prediction')\n",
    "plt.show()"
   ]
  },
  {
   "cell_type": "markdown",
   "id": "46dd21bf",
   "metadata": {},
   "source": [
    "## Does this data need to be balanced?\n",
    "\n",
    "### The data appears to be partially imbalanced, as indicated by the support counts: there are significantly more examples of class 1 (31,442) compared to class 0 (11,779). This imbalance may result in biased model predictions that favor the majority class. This is evident in the high precision and recall for class 1, alongside the comparatively poor performance for class 0."
   ]
  },
  {
   "cell_type": "markdown",
   "id": "1b832d25",
   "metadata": {},
   "source": [
    "## Do you use train_test_split or cross validation to validate the result?\n",
    "\n",
    "### Due to the imbalanced data, I used both Cross-validation and train-test split in this model.\n",
    "### Cross-validation is generally a better approach for validating results. While the train-test split offers only a single evaluation of the model's performance, cross-validation provides a more robust estimate by averaging performance across multiple splits. This method reduces the risk of results being affected by a specific data split. When dealing with imbalanced data, stratified cross-validation is particularly beneficial, as it ensures that each fold contains a representative distribution of classes, leading to more reliable evaluations."
   ]
  },
  {
   "cell_type": "markdown",
   "id": "43bea0d2",
   "metadata": {},
   "source": [
    "## Which algorithm is appropriate for this problem? \n",
    "\n",
    "\n",
    "### I chose Random Forest due to the classification nature of the problem and the imbalance in the target variable, which makes it more suitable."
   ]
  },
  {
   "cell_type": "markdown",
   "id": "4da93940",
   "metadata": {},
   "source": [
    "## Which metrics do you use to evaluate the prediction model?\n",
    "\n",
    "### F1 Score: Balances precision and recall, giving a more accurate measure for each class, particularly the minority class. This metric helps ensure that the model is not overfitting to the majority class.\n",
    "\n",
    "### ROC AUC Score: Evaluates how well the model distinguishes between the two classes across different threshold values. However, the current score of 0.577 suggests the model isn’t distinguishing very effectively, which is something to work on.\n",
    "\n",
    "### Precision and Recall: Precision tells us the accuracy of the positive predictions, while recall (or sensitivity) tells us how many actual positives were correctly identified. For an imbalanced dataset, both precision and recall, particularly for the minority class, should be closely monitored.\n",
    "\n",
    "### Confusion Matrix: This provides a detailed breakdown of the model’s predictions for each class, showing where the model may be missing minority class predictions (in this case, false negatives for class 0 are relatively high)"
   ]
  },
  {
   "cell_type": "markdown",
   "id": "2a979feb",
   "metadata": {},
   "source": [
    "## If the accuracy score or r-squared score is low, generally it is considered as a bad model. Explain why your model failed. \n",
    "\n",
    "### My model did not fail; it can be considered acceptable based on the outcome. The F1 score and the cross-validated F1 score are both reasonably strong, at 0.76+ and 0.84+, respectively. This indicates that the model effectively captures patterns in the data. Additionally, the model demonstrates a fair balance between precision and recall for the majority class, allowing it to effectively identify high-crash periods."
   ]
  }
 ],
 "metadata": {
  "kernelspec": {
   "display_name": "Python 3 (ipykernel)",
   "language": "python",
   "name": "python3"
  },
  "language_info": {
   "codemirror_mode": {
    "name": "ipython",
    "version": 3
   },
   "file_extension": ".py",
   "mimetype": "text/x-python",
   "name": "python",
   "nbconvert_exporter": "python",
   "pygments_lexer": "ipython3",
   "version": "3.9.12"
  }
 },
 "nbformat": 4,
 "nbformat_minor": 5
}
