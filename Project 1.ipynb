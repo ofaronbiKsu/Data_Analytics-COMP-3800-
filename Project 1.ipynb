{
 "cells": [
  {
   "cell_type": "markdown",
   "id": "f8b36bd9",
   "metadata": {},
   "source": [
    "### Github link: https://github.com/ofaronbiKsu/Data_Analytics-COMP-3800-/blob/main/Project%201.ipynb"
   ]
  },
  {
   "cell_type": "code",
   "execution_count": 1,
   "id": "59fa3ec1",
   "metadata": {},
   "outputs": [],
   "source": [
    "import pandas as pd"
   ]
  },
  {
   "cell_type": "markdown",
   "id": "9af0f906",
   "metadata": {},
   "source": [
    "## 1. Problem statements."
   ]
  },
  {
   "cell_type": "code",
   "execution_count": 2,
   "id": "1a8840ee",
   "metadata": {},
   "outputs": [
    {
     "data": {
      "text/html": [
       "<div>\n",
       "<style scoped>\n",
       "    .dataframe tbody tr th:only-of-type {\n",
       "        vertical-align: middle;\n",
       "    }\n",
       "\n",
       "    .dataframe tbody tr th {\n",
       "        vertical-align: top;\n",
       "    }\n",
       "\n",
       "    .dataframe thead th {\n",
       "        text-align: right;\n",
       "    }\n",
       "</style>\n",
       "<table border=\"1\" class=\"dataframe\">\n",
       "  <thead>\n",
       "    <tr style=\"text-align: right;\">\n",
       "      <th></th>\n",
       "      <th>Bank Name</th>\n",
       "      <th>City</th>\n",
       "      <th>State</th>\n",
       "      <th>Cert</th>\n",
       "      <th>Acquiring Institution</th>\n",
       "      <th>Closing Date</th>\n",
       "      <th>Fund</th>\n",
       "    </tr>\n",
       "  </thead>\n",
       "  <tbody>\n",
       "    <tr>\n",
       "      <th>0</th>\n",
       "      <td>Republic First Bank dba Republic Bank</td>\n",
       "      <td>Philadelphia</td>\n",
       "      <td>PA</td>\n",
       "      <td>27332</td>\n",
       "      <td>Fulton Bank, National Association</td>\n",
       "      <td>26-Apr-24</td>\n",
       "      <td>10546</td>\n",
       "    </tr>\n",
       "    <tr>\n",
       "      <th>1</th>\n",
       "      <td>Citizens Bank</td>\n",
       "      <td>Sac City</td>\n",
       "      <td>IA</td>\n",
       "      <td>8758</td>\n",
       "      <td>Iowa Trust &amp; Savings Bank</td>\n",
       "      <td>3-Nov-23</td>\n",
       "      <td>10545</td>\n",
       "    </tr>\n",
       "    <tr>\n",
       "      <th>2</th>\n",
       "      <td>Heartland Tri-State Bank</td>\n",
       "      <td>Elkhart</td>\n",
       "      <td>KS</td>\n",
       "      <td>25851</td>\n",
       "      <td>Dream First Bank, N.A.</td>\n",
       "      <td>28-Jul-23</td>\n",
       "      <td>10544</td>\n",
       "    </tr>\n",
       "    <tr>\n",
       "      <th>3</th>\n",
       "      <td>First Republic Bank</td>\n",
       "      <td>San Francisco</td>\n",
       "      <td>CA</td>\n",
       "      <td>59017</td>\n",
       "      <td>JPMorgan Chase Bank, N.A.</td>\n",
       "      <td>1-May-23</td>\n",
       "      <td>10543</td>\n",
       "    </tr>\n",
       "    <tr>\n",
       "      <th>4</th>\n",
       "      <td>Signature Bank</td>\n",
       "      <td>New York</td>\n",
       "      <td>NY</td>\n",
       "      <td>57053</td>\n",
       "      <td>Flagstar Bank, N.A.</td>\n",
       "      <td>12-Mar-23</td>\n",
       "      <td>10540</td>\n",
       "    </tr>\n",
       "  </tbody>\n",
       "</table>\n",
       "</div>"
      ],
      "text/plain": [
       "                              Bank Name           City  State   Cert   \\\n",
       "0  Republic First Bank dba Republic Bank   Philadelphia     PA  27332   \n",
       "1                          Citizens Bank       Sac City     IA   8758   \n",
       "2               Heartland Tri-State Bank        Elkhart     KS  25851   \n",
       "3                    First Republic Bank  San Francisco     CA  59017   \n",
       "4                         Signature Bank       New York     NY  57053   \n",
       "\n",
       "              Acquiring Institution  Closing Date    Fund  \n",
       "0  Fulton Bank, National Association     26-Apr-24  10546  \n",
       "1          Iowa Trust & Savings Bank      3-Nov-23  10545  \n",
       "2             Dream First Bank, N.A.     28-Jul-23  10544  \n",
       "3          JPMorgan Chase Bank, N.A.      1-May-23  10543  \n",
       "4                Flagstar Bank, N.A.     12-Mar-23  10540  "
      ]
     },
     "execution_count": 2,
     "metadata": {},
     "output_type": "execute_result"
    }
   ],
   "source": [
    "data = pd.read_csv('banklist.csv')\n",
    "banklist_dt = pd.DataFrame(data)\n",
    "banklist_dt.head()"
   ]
  },
  {
   "cell_type": "markdown",
   "id": "aaf5bd70",
   "metadata": {},
   "source": [
    "# Data Source"
   ]
  },
  {
   "cell_type": "markdown",
   "id": "8ce0d814",
   "metadata": {},
   "source": [
    "### This dataset from FDIC contains information about banks that have failed, including details such as the bank name, city, state, certification number, acquiring institution, closing date, and fund.\n",
    "\n",
    "### Link: https://catalog.data.gov/dataset/fdic-failed-bank-list"
   ]
  },
  {
   "cell_type": "markdown",
   "id": "271c4c12",
   "metadata": {},
   "source": [
    "## Inquiry Question: What trends can be identified from examining the failures of banks in recent years?\n",
    "\n",
    "### Sub-questions:\n",
    "\n",
    "### 1. Is there a common trend in terms of geographic location for these bank failures?\n",
    "### 2. What is the relationship between certification numbers and acquiring institutions?\n",
    "### 3. How has the frequency of bank failures changed over time?"
   ]
  },
  {
   "cell_type": "markdown",
   "id": "95a237da",
   "metadata": {},
   "source": [
    "## 2. Data cleaning."
   ]
  },
  {
   "cell_type": "code",
   "execution_count": 3,
   "id": "9ed0adb5",
   "metadata": {},
   "outputs": [
    {
     "data": {
      "text/html": [
       "<div>\n",
       "<style scoped>\n",
       "    .dataframe tbody tr th:only-of-type {\n",
       "        vertical-align: middle;\n",
       "    }\n",
       "\n",
       "    .dataframe tbody tr th {\n",
       "        vertical-align: top;\n",
       "    }\n",
       "\n",
       "    .dataframe thead th {\n",
       "        text-align: right;\n",
       "    }\n",
       "</style>\n",
       "<table border=\"1\" class=\"dataframe\">\n",
       "  <thead>\n",
       "    <tr style=\"text-align: right;\">\n",
       "      <th></th>\n",
       "      <th>Bank Name</th>\n",
       "      <th>City</th>\n",
       "      <th>State</th>\n",
       "      <th>Cert</th>\n",
       "      <th>Acquiring Institution</th>\n",
       "      <th>Closing Date</th>\n",
       "      <th>Fund</th>\n",
       "    </tr>\n",
       "  </thead>\n",
       "  <tbody>\n",
       "    <tr>\n",
       "      <th>0</th>\n",
       "      <td>Republic First Bank dba Republic Bank</td>\n",
       "      <td>Philadelphia</td>\n",
       "      <td>PA</td>\n",
       "      <td>27332</td>\n",
       "      <td>Fulton Bank, National Association</td>\n",
       "      <td>26-Apr-24</td>\n",
       "      <td>10546</td>\n",
       "    </tr>\n",
       "    <tr>\n",
       "      <th>1</th>\n",
       "      <td>Citizens Bank</td>\n",
       "      <td>Sac City</td>\n",
       "      <td>IA</td>\n",
       "      <td>8758</td>\n",
       "      <td>Iowa Trust &amp; Savings Bank</td>\n",
       "      <td>3-Nov-23</td>\n",
       "      <td>10545</td>\n",
       "    </tr>\n",
       "    <tr>\n",
       "      <th>2</th>\n",
       "      <td>Heartland Tri-State Bank</td>\n",
       "      <td>Elkhart</td>\n",
       "      <td>KS</td>\n",
       "      <td>25851</td>\n",
       "      <td>Dream First Bank, N.A.</td>\n",
       "      <td>28-Jul-23</td>\n",
       "      <td>10544</td>\n",
       "    </tr>\n",
       "    <tr>\n",
       "      <th>3</th>\n",
       "      <td>First Republic Bank</td>\n",
       "      <td>San Francisco</td>\n",
       "      <td>CA</td>\n",
       "      <td>59017</td>\n",
       "      <td>JPMorgan Chase Bank, N.A.</td>\n",
       "      <td>1-May-23</td>\n",
       "      <td>10543</td>\n",
       "    </tr>\n",
       "    <tr>\n",
       "      <th>4</th>\n",
       "      <td>Signature Bank</td>\n",
       "      <td>New York</td>\n",
       "      <td>NY</td>\n",
       "      <td>57053</td>\n",
       "      <td>Flagstar Bank, N.A.</td>\n",
       "      <td>12-Mar-23</td>\n",
       "      <td>10540</td>\n",
       "    </tr>\n",
       "    <tr>\n",
       "      <th>...</th>\n",
       "      <td>...</td>\n",
       "      <td>...</td>\n",
       "      <td>...</td>\n",
       "      <td>...</td>\n",
       "      <td>...</td>\n",
       "      <td>...</td>\n",
       "      <td>...</td>\n",
       "    </tr>\n",
       "    <tr>\n",
       "      <th>564</th>\n",
       "      <td>Superior Bank, FSB</td>\n",
       "      <td>Hinsdale</td>\n",
       "      <td>IL</td>\n",
       "      <td>32646</td>\n",
       "      <td>Superior Federal, FSB</td>\n",
       "      <td>27-Jul-01</td>\n",
       "      <td>6004</td>\n",
       "    </tr>\n",
       "    <tr>\n",
       "      <th>565</th>\n",
       "      <td>Malta National Bank</td>\n",
       "      <td>Malta</td>\n",
       "      <td>OH</td>\n",
       "      <td>6629</td>\n",
       "      <td>North Valley Bank</td>\n",
       "      <td>3-May-01</td>\n",
       "      <td>4648</td>\n",
       "    </tr>\n",
       "    <tr>\n",
       "      <th>566</th>\n",
       "      <td>First Alliance Bank &amp; Trust Co.</td>\n",
       "      <td>Manchester</td>\n",
       "      <td>NH</td>\n",
       "      <td>34264</td>\n",
       "      <td>Southern New Hampshire Bank &amp; Trust</td>\n",
       "      <td>2-Feb-01</td>\n",
       "      <td>4647</td>\n",
       "    </tr>\n",
       "    <tr>\n",
       "      <th>567</th>\n",
       "      <td>National State Bank of Metropolis</td>\n",
       "      <td>Metropolis</td>\n",
       "      <td>IL</td>\n",
       "      <td>3815</td>\n",
       "      <td>Banterra Bank of Marion</td>\n",
       "      <td>14-Dec-00</td>\n",
       "      <td>4646</td>\n",
       "    </tr>\n",
       "    <tr>\n",
       "      <th>568</th>\n",
       "      <td>Bank of Honolulu</td>\n",
       "      <td>Honolulu</td>\n",
       "      <td>HI</td>\n",
       "      <td>21029</td>\n",
       "      <td>Bank of the Orient</td>\n",
       "      <td>13-Oct-00</td>\n",
       "      <td>4645</td>\n",
       "    </tr>\n",
       "  </tbody>\n",
       "</table>\n",
       "<p>569 rows × 7 columns</p>\n",
       "</div>"
      ],
      "text/plain": [
       "                                 Bank Name           City State   Cert  \\\n",
       "0    Republic First Bank dba Republic Bank   Philadelphia    PA  27332   \n",
       "1                            Citizens Bank       Sac City    IA   8758   \n",
       "2                 Heartland Tri-State Bank        Elkhart    KS  25851   \n",
       "3                      First Republic Bank  San Francisco    CA  59017   \n",
       "4                           Signature Bank       New York    NY  57053   \n",
       "..                                     ...            ...   ...    ...   \n",
       "564                     Superior Bank, FSB       Hinsdale    IL  32646   \n",
       "565                    Malta National Bank          Malta    OH   6629   \n",
       "566        First Alliance Bank & Trust Co.     Manchester    NH  34264   \n",
       "567      National State Bank of Metropolis     Metropolis    IL   3815   \n",
       "568                       Bank of Honolulu       Honolulu    HI  21029   \n",
       "\n",
       "                   Acquiring Institution Closing Date   Fund  \n",
       "0      Fulton Bank, National Association    26-Apr-24  10546  \n",
       "1              Iowa Trust & Savings Bank     3-Nov-23  10545  \n",
       "2                 Dream First Bank, N.A.    28-Jul-23  10544  \n",
       "3              JPMorgan Chase Bank, N.A.     1-May-23  10543  \n",
       "4                    Flagstar Bank, N.A.    12-Mar-23  10540  \n",
       "..                                   ...          ...    ...  \n",
       "564                Superior Federal, FSB    27-Jul-01   6004  \n",
       "565                    North Valley Bank     3-May-01   4648  \n",
       "566  Southern New Hampshire Bank & Trust     2-Feb-01   4647  \n",
       "567              Banterra Bank of Marion    14-Dec-00   4646  \n",
       "568                   Bank of the Orient    13-Oct-00   4645  \n",
       "\n",
       "[569 rows x 7 columns]"
      ]
     },
     "execution_count": 3,
     "metadata": {},
     "output_type": "execute_result"
    }
   ],
   "source": [
    "# a. Drop any unwanted features if necessary.\n",
    "banklist_dt = banklist_dt.dropna()\n",
    "\n",
    "# remove name spaces leading/trailing spaces.\n",
    "banklist_dt.columns = banklist_dt.columns.str.strip()\n",
    "banklist_dt"
   ]
  },
  {
   "cell_type": "code",
   "execution_count": 4,
   "id": "e050438a",
   "metadata": {},
   "outputs": [
    {
     "data": {
      "text/plain": [
       "Bank Name                0\n",
       "City                     0\n",
       "State                    0\n",
       "Cert                     0\n",
       "Acquiring Institution    0\n",
       "Closing Date             0\n",
       "Fund                     0\n",
       "dtype: int64"
      ]
     },
     "execution_count": 4,
     "metadata": {},
     "output_type": "execute_result"
    }
   ],
   "source": [
    "#b. Check if there are any missing values and address them.\n",
    "banklist_missing_value = banklist_dt.isnull().sum()\n",
    "banklist_missing_value"
   ]
  },
  {
   "cell_type": "code",
   "execution_count": 5,
   "id": "5210b41e",
   "metadata": {},
   "outputs": [
    {
     "name": "stdout",
     "output_type": "stream",
     "text": [
      "Number of duplicates in the dataset is 0\n"
     ]
    }
   ],
   "source": [
    "# c. Check if any duplicates and address them.\n",
    "banklist_duplicates = banklist_dt.duplicated().sum()\n",
    "print(f'Number of duplicates in the dataset is {banklist_duplicates}')"
   ]
  },
  {
   "cell_type": "code",
   "execution_count": 6,
   "id": "b5f0c15d",
   "metadata": {},
   "outputs": [
    {
     "data": {
      "text/plain": [
       "Bank Name                object\n",
       "City                     object\n",
       "State                    object\n",
       "Cert                      int64\n",
       "Acquiring Institution    object\n",
       "Closing Date             object\n",
       "Fund                      int64\n",
       "dtype: object"
      ]
     },
     "execution_count": 6,
     "metadata": {},
     "output_type": "execute_result"
    }
   ],
   "source": [
    "# d. Check the data type of each column and correct them if any.\n",
    "banklist_dt.dtypes"
   ]
  },
  {
   "cell_type": "code",
   "execution_count": 7,
   "id": "d9beb22e",
   "metadata": {},
   "outputs": [
    {
     "data": {
      "text/plain": [
       "Bank Name                        object\n",
       "City                             object\n",
       "State                            object\n",
       "Cert                              int64\n",
       "Acquiring Institution            object\n",
       "Closing Date             datetime64[ns]\n",
       "Fund                              int64\n",
       "dtype: object"
      ]
     },
     "execution_count": 7,
     "metadata": {},
     "output_type": "execute_result"
    }
   ],
   "source": [
    "# The closing date is object, changed it to date\n",
    "banklist_dt['Closing Date'] = pd.to_datetime(banklist_dt['Closing Date'])\n",
    "banklist_dt.dtypes"
   ]
  },
  {
   "cell_type": "code",
   "execution_count": 8,
   "id": "d6acf41b",
   "metadata": {},
   "outputs": [
    {
     "data": {
      "text/html": [
       "<div>\n",
       "<style scoped>\n",
       "    .dataframe tbody tr th:only-of-type {\n",
       "        vertical-align: middle;\n",
       "    }\n",
       "\n",
       "    .dataframe tbody tr th {\n",
       "        vertical-align: top;\n",
       "    }\n",
       "\n",
       "    .dataframe thead th {\n",
       "        text-align: right;\n",
       "    }\n",
       "</style>\n",
       "<table border=\"1\" class=\"dataframe\">\n",
       "  <thead>\n",
       "    <tr style=\"text-align: right;\">\n",
       "      <th></th>\n",
       "      <th>Bank Name</th>\n",
       "      <th>City</th>\n",
       "      <th>State</th>\n",
       "      <th>Cert</th>\n",
       "      <th>Acquiring Institution</th>\n",
       "      <th>Closing Date</th>\n",
       "      <th>Fund</th>\n",
       "    </tr>\n",
       "  </thead>\n",
       "  <tbody>\n",
       "    <tr>\n",
       "      <th>17</th>\n",
       "      <td>Guaranty Bank, (d/b/a BestBank in Georgia &amp; Mi...</td>\n",
       "      <td>Milwaukee</td>\n",
       "      <td>WI</td>\n",
       "      <td>30003</td>\n",
       "      <td>First-Citizens Bank &amp; Trust Company</td>\n",
       "      <td>2017-05-05</td>\n",
       "      <td>10527</td>\n",
       "    </tr>\n",
       "    <tr>\n",
       "      <th>26</th>\n",
       "      <td>North Milwaukee State Bank</td>\n",
       "      <td>Milwaukee</td>\n",
       "      <td>WI</td>\n",
       "      <td>20364</td>\n",
       "      <td>First-Citizens Bank &amp; Trust Company</td>\n",
       "      <td>2016-03-11</td>\n",
       "      <td>10518</td>\n",
       "    </tr>\n",
       "    <tr>\n",
       "      <th>59</th>\n",
       "      <td>Bank of Wausau</td>\n",
       "      <td>Wausau</td>\n",
       "      <td>WI</td>\n",
       "      <td>35016</td>\n",
       "      <td>Nicolet National Bank</td>\n",
       "      <td>2013-08-09</td>\n",
       "      <td>10485</td>\n",
       "    </tr>\n",
       "    <tr>\n",
       "      <th>63</th>\n",
       "      <td>Banks of Wisconsin d/b/a Bank of Kenosha</td>\n",
       "      <td>Kenosha</td>\n",
       "      <td>WI</td>\n",
       "      <td>35386</td>\n",
       "      <td>North Shore Bank, FSB</td>\n",
       "      <td>2013-05-31</td>\n",
       "      <td>10478</td>\n",
       "    </tr>\n",
       "    <tr>\n",
       "      <th>195</th>\n",
       "      <td>Legacy Bank</td>\n",
       "      <td>Milwaukee</td>\n",
       "      <td>WI</td>\n",
       "      <td>34818</td>\n",
       "      <td>Seaway Bank and Trust Company</td>\n",
       "      <td>2011-03-11</td>\n",
       "      <td>10348</td>\n",
       "    </tr>\n",
       "    <tr>\n",
       "      <th>203</th>\n",
       "      <td>Badger State Bank</td>\n",
       "      <td>Cassville</td>\n",
       "      <td>WI</td>\n",
       "      <td>13272</td>\n",
       "      <td>Royal Bank</td>\n",
       "      <td>2011-02-11</td>\n",
       "      <td>10339</td>\n",
       "    </tr>\n",
       "    <tr>\n",
       "      <th>211</th>\n",
       "      <td>Evergreen State Bank</td>\n",
       "      <td>Stoughton</td>\n",
       "      <td>WI</td>\n",
       "      <td>5328</td>\n",
       "      <td>McFarland State Bank</td>\n",
       "      <td>2011-01-28</td>\n",
       "      <td>10332</td>\n",
       "    </tr>\n",
       "    <tr>\n",
       "      <th>228</th>\n",
       "      <td>First Banking Center</td>\n",
       "      <td>Burlington</td>\n",
       "      <td>WI</td>\n",
       "      <td>5287</td>\n",
       "      <td>First Michigan Bank</td>\n",
       "      <td>2010-11-19</td>\n",
       "      <td>10315</td>\n",
       "    </tr>\n",
       "    <tr>\n",
       "      <th>252</th>\n",
       "      <td>Maritime Savings Bank</td>\n",
       "      <td>West Allis</td>\n",
       "      <td>WI</td>\n",
       "      <td>28612</td>\n",
       "      <td>North Shore Bank, FSB</td>\n",
       "      <td>2010-09-17</td>\n",
       "      <td>10291</td>\n",
       "    </tr>\n",
       "    <tr>\n",
       "      <th>413</th>\n",
       "      <td>Bank of Elmwood</td>\n",
       "      <td>Racine</td>\n",
       "      <td>WI</td>\n",
       "      <td>18321</td>\n",
       "      <td>Tri City National Bank</td>\n",
       "      <td>2009-10-23</td>\n",
       "      <td>10132</td>\n",
       "    </tr>\n",
       "    <tr>\n",
       "      <th>550</th>\n",
       "      <td>First National Bank of Blanchardville</td>\n",
       "      <td>Blanchardville</td>\n",
       "      <td>WI</td>\n",
       "      <td>11639</td>\n",
       "      <td>The Park Bank</td>\n",
       "      <td>2003-05-09</td>\n",
       "      <td>4661</td>\n",
       "    </tr>\n",
       "  </tbody>\n",
       "</table>\n",
       "</div>"
      ],
      "text/plain": [
       "                                             Bank Name            City State  \\\n",
       "17   Guaranty Bank, (d/b/a BestBank in Georgia & Mi...       Milwaukee    WI   \n",
       "26                          North Milwaukee State Bank       Milwaukee    WI   \n",
       "59                                      Bank of Wausau          Wausau    WI   \n",
       "63            Banks of Wisconsin d/b/a Bank of Kenosha         Kenosha    WI   \n",
       "195                                        Legacy Bank       Milwaukee    WI   \n",
       "203                                  Badger State Bank       Cassville    WI   \n",
       "211                               Evergreen State Bank       Stoughton    WI   \n",
       "228                               First Banking Center      Burlington    WI   \n",
       "252                              Maritime Savings Bank      West Allis    WI   \n",
       "413                                    Bank of Elmwood          Racine    WI   \n",
       "550              First National Bank of Blanchardville  Blanchardville    WI   \n",
       "\n",
       "      Cert                Acquiring Institution Closing Date   Fund  \n",
       "17   30003  First-Citizens Bank & Trust Company   2017-05-05  10527  \n",
       "26   20364  First-Citizens Bank & Trust Company   2016-03-11  10518  \n",
       "59   35016                Nicolet National Bank   2013-08-09  10485  \n",
       "63   35386                North Shore Bank, FSB   2013-05-31  10478  \n",
       "195  34818        Seaway Bank and Trust Company   2011-03-11  10348  \n",
       "203  13272                           Royal Bank   2011-02-11  10339  \n",
       "211   5328                 McFarland State Bank   2011-01-28  10332  \n",
       "228   5287                  First Michigan Bank   2010-11-19  10315  \n",
       "252  28612                North Shore Bank, FSB   2010-09-17  10291  \n",
       "413  18321               Tri City National Bank   2009-10-23  10132  \n",
       "550  11639                        The Park Bank   2003-05-09   4661  "
      ]
     },
     "execution_count": 8,
     "metadata": {},
     "output_type": "execute_result"
    }
   ],
   "source": [
    "# e. For categorical variables, check if there are any inconsistent inputs and address\n",
    "banklist_dt['State'] = banklist_dt['State'].str.upper()\n",
    "particular_state = banklist_dt[banklist_dt['State'] == 'WI']\n",
    "particular_state"
   ]
  },
  {
   "cell_type": "code",
   "execution_count": 9,
   "id": "59b7c38a",
   "metadata": {},
   "outputs": [],
   "source": [
    "# f. For numeric variables, check any outliers and remove them or replace them with a certain value. \n",
    "numeric_variables_columns = banklist_dt.select_dtypes(include=['float64', 'int64']).columns\n",
    "for columns in numeric_variables_columns:\n",
    "    banklist_dt[columns] = banklist_dt[columns].apply(lambda x: x if x < banklist_dt[columns].quantile(0.95) else banklist_dt[columns].median())"
   ]
  },
  {
   "cell_type": "markdown",
   "id": "6c5be114",
   "metadata": {},
   "source": [
    "## 3. Exploratory data Analysis and Interpretation of the results."
   ]
  },
  {
   "cell_type": "markdown",
   "id": "6148ee27",
   "metadata": {},
   "source": [
    "### a. Process the data. Use a pivot table or other functions to generate the result you want."
   ]
  },
  {
   "cell_type": "code",
   "execution_count": 10,
   "id": "0b0ec721",
   "metadata": {},
   "outputs": [],
   "source": [
    "import matplotlib.pyplot as plt\n",
    "import numpy as np\n",
    "import seaborn as sns"
   ]
  },
  {
   "cell_type": "code",
   "execution_count": 11,
   "id": "fd96ef7e",
   "metadata": {},
   "outputs": [
    {
     "data": {
      "text/html": [
       "<div>\n",
       "<style scoped>\n",
       "    .dataframe tbody tr th:only-of-type {\n",
       "        vertical-align: middle;\n",
       "    }\n",
       "\n",
       "    .dataframe tbody tr th {\n",
       "        vertical-align: top;\n",
       "    }\n",
       "\n",
       "    .dataframe thead th {\n",
       "        text-align: right;\n",
       "    }\n",
       "</style>\n",
       "<table border=\"1\" class=\"dataframe\">\n",
       "  <thead>\n",
       "    <tr style=\"text-align: right;\">\n",
       "      <th></th>\n",
       "      <th>Bank Name</th>\n",
       "    </tr>\n",
       "    <tr>\n",
       "      <th>State</th>\n",
       "      <th></th>\n",
       "    </tr>\n",
       "  </thead>\n",
       "  <tbody>\n",
       "    <tr>\n",
       "      <th>GA</th>\n",
       "      <td>93</td>\n",
       "    </tr>\n",
       "    <tr>\n",
       "      <th>FL</th>\n",
       "      <td>76</td>\n",
       "    </tr>\n",
       "    <tr>\n",
       "      <th>IL</th>\n",
       "      <td>69</td>\n",
       "    </tr>\n",
       "    <tr>\n",
       "      <th>CA</th>\n",
       "      <td>43</td>\n",
       "    </tr>\n",
       "    <tr>\n",
       "      <th>MN</th>\n",
       "      <td>23</td>\n",
       "    </tr>\n",
       "    <tr>\n",
       "      <th>WA</th>\n",
       "      <td>19</td>\n",
       "    </tr>\n",
       "    <tr>\n",
       "      <th>AZ</th>\n",
       "      <td>16</td>\n",
       "    </tr>\n",
       "    <tr>\n",
       "      <th>MO</th>\n",
       "      <td>16</td>\n",
       "    </tr>\n",
       "    <tr>\n",
       "      <th>MI</th>\n",
       "      <td>14</td>\n",
       "    </tr>\n",
       "    <tr>\n",
       "      <th>TX</th>\n",
       "      <td>13</td>\n",
       "    </tr>\n",
       "    <tr>\n",
       "      <th>KS</th>\n",
       "      <td>12</td>\n",
       "    </tr>\n",
       "    <tr>\n",
       "      <th>NV</th>\n",
       "      <td>12</td>\n",
       "    </tr>\n",
       "    <tr>\n",
       "      <th>PA</th>\n",
       "      <td>11</td>\n",
       "    </tr>\n",
       "    <tr>\n",
       "      <th>WI</th>\n",
       "      <td>11</td>\n",
       "    </tr>\n",
       "    <tr>\n",
       "      <th>SC</th>\n",
       "      <td>10</td>\n",
       "    </tr>\n",
       "    <tr>\n",
       "      <th>MD</th>\n",
       "      <td>10</td>\n",
       "    </tr>\n",
       "    <tr>\n",
       "      <th>CO</th>\n",
       "      <td>10</td>\n",
       "    </tr>\n",
       "    <tr>\n",
       "      <th>OH</th>\n",
       "      <td>9</td>\n",
       "    </tr>\n",
       "    <tr>\n",
       "      <th>NJ</th>\n",
       "      <td>8</td>\n",
       "    </tr>\n",
       "    <tr>\n",
       "      <th>UT</th>\n",
       "      <td>8</td>\n",
       "    </tr>\n",
       "    <tr>\n",
       "      <th>TN</th>\n",
       "      <td>7</td>\n",
       "    </tr>\n",
       "    <tr>\n",
       "      <th>OK</th>\n",
       "      <td>7</td>\n",
       "    </tr>\n",
       "    <tr>\n",
       "      <th>AL</th>\n",
       "      <td>7</td>\n",
       "    </tr>\n",
       "    <tr>\n",
       "      <th>NC</th>\n",
       "      <td>7</td>\n",
       "    </tr>\n",
       "    <tr>\n",
       "      <th>NY</th>\n",
       "      <td>6</td>\n",
       "    </tr>\n",
       "    <tr>\n",
       "      <th>OR</th>\n",
       "      <td>6</td>\n",
       "    </tr>\n",
       "    <tr>\n",
       "      <th>VA</th>\n",
       "      <td>5</td>\n",
       "    </tr>\n",
       "    <tr>\n",
       "      <th>AR</th>\n",
       "      <td>4</td>\n",
       "    </tr>\n",
       "    <tr>\n",
       "      <th>LA</th>\n",
       "      <td>4</td>\n",
       "    </tr>\n",
       "    <tr>\n",
       "      <th>PR</th>\n",
       "      <td>4</td>\n",
       "    </tr>\n",
       "    <tr>\n",
       "      <th>NE</th>\n",
       "      <td>4</td>\n",
       "    </tr>\n",
       "    <tr>\n",
       "      <th>KY</th>\n",
       "      <td>3</td>\n",
       "    </tr>\n",
       "    <tr>\n",
       "      <th>NM</th>\n",
       "      <td>3</td>\n",
       "    </tr>\n",
       "    <tr>\n",
       "      <th>IN</th>\n",
       "      <td>3</td>\n",
       "    </tr>\n",
       "    <tr>\n",
       "      <th>IA</th>\n",
       "      <td>3</td>\n",
       "    </tr>\n",
       "    <tr>\n",
       "      <th>MS</th>\n",
       "      <td>2</td>\n",
       "    </tr>\n",
       "    <tr>\n",
       "      <th>WV</th>\n",
       "      <td>2</td>\n",
       "    </tr>\n",
       "    <tr>\n",
       "      <th>CT</th>\n",
       "      <td>2</td>\n",
       "    </tr>\n",
       "    <tr>\n",
       "      <th>ID</th>\n",
       "      <td>2</td>\n",
       "    </tr>\n",
       "    <tr>\n",
       "      <th>HI</th>\n",
       "      <td>1</td>\n",
       "    </tr>\n",
       "    <tr>\n",
       "      <th>NH</th>\n",
       "      <td>1</td>\n",
       "    </tr>\n",
       "    <tr>\n",
       "      <th>SD</th>\n",
       "      <td>1</td>\n",
       "    </tr>\n",
       "    <tr>\n",
       "      <th>MA</th>\n",
       "      <td>1</td>\n",
       "    </tr>\n",
       "    <tr>\n",
       "      <th>WY</th>\n",
       "      <td>1</td>\n",
       "    </tr>\n",
       "  </tbody>\n",
       "</table>\n",
       "</div>"
      ],
      "text/plain": [
       "       Bank Name\n",
       "State           \n",
       "GA            93\n",
       "FL            76\n",
       "IL            69\n",
       "CA            43\n",
       "MN            23\n",
       "WA            19\n",
       "AZ            16\n",
       "MO            16\n",
       "MI            14\n",
       "TX            13\n",
       "KS            12\n",
       "NV            12\n",
       "PA            11\n",
       "WI            11\n",
       "SC            10\n",
       "MD            10\n",
       "CO            10\n",
       "OH             9\n",
       "NJ             8\n",
       "UT             8\n",
       "TN             7\n",
       "OK             7\n",
       "AL             7\n",
       "NC             7\n",
       "NY             6\n",
       "OR             6\n",
       "VA             5\n",
       "AR             4\n",
       "LA             4\n",
       "PR             4\n",
       "NE             4\n",
       "KY             3\n",
       "NM             3\n",
       "IN             3\n",
       "IA             3\n",
       "MS             2\n",
       "WV             2\n",
       "CT             2\n",
       "ID             2\n",
       "HI             1\n",
       "NH             1\n",
       "SD             1\n",
       "MA             1\n",
       "WY             1"
      ]
     },
     "execution_count": 11,
     "metadata": {},
     "output_type": "execute_result"
    }
   ],
   "source": [
    "pivot_table = banklist_dt.pivot_table(index='State', values='Bank Name', aggfunc='count')\n",
    "pivot_table.sort_values(by='Bank Name', ascending=False)"
   ]
  },
  {
   "cell_type": "markdown",
   "id": "5df71b56",
   "metadata": {},
   "source": [
    "## Common trend in terms of geographic location for these bank failures"
   ]
  },
  {
   "cell_type": "code",
   "execution_count": 12,
   "id": "b6227039",
   "metadata": {},
   "outputs": [
    {
     "data": {
      "image/png": "[encoded data removed]",
      "text/plain": [
       "<Figure size 1152x648 with 1 Axes>"
      ]
     },
     "metadata": {
      "needs_background": "light"
     },
     "output_type": "display_data"
    }
   ],
   "source": [
    "# Bar plot size\n",
    "plt.figure(figsize=(16, 9))\n",
    "\n",
    "# Bar plot\n",
    "sns.barplot(x=pivot_table.index, y=pivot_table['Bank Name'])\n",
    "\n",
    "# Title\n",
    "plt.title('Number of Failed Banks by State', size=25)\n",
    "\n",
    "# X axis label\n",
    "plt.xlabel('State', size=16)\n",
    "\n",
    "# Y axis label\n",
    "plt.ylabel('Number of Failed Banks', size=16)\n",
    "\n",
    "# Rotate x axis\n",
    "plt.xticks(rotation=90)\n",
    "plt.show()"
   ]
  },
  {
   "cell_type": "markdown",
   "id": "e2aa3ec0",
   "metadata": {},
   "source": [
    "### c. Interpret the result. Explain your findings. "
   ]
  },
  {
   "cell_type": "markdown",
   "id": "e207488e",
   "metadata": {},
   "source": [
    "### Interpretation: The bar chart shows the number of failed banks by state. Georgia has the highest count of 93 failed banks. This indicates that Georgia has more financial instability or other underlying issues causing bank failure."
   ]
  },
  {
   "cell_type": "markdown",
   "id": "7ec29ec6",
   "metadata": {},
   "source": [
    "## Relationship between certification numbers and acquiring institutions"
   ]
  },
  {
   "cell_type": "code",
   "execution_count": 13,
   "id": "a362cb5f",
   "metadata": {},
   "outputs": [
    {
     "data": {
      "image/png": "[encoded data removed]",
      "text/plain": [
       "<Figure size 1152x648 with 2 Axes>"
      ]
     },
     "metadata": {
      "needs_background": "light"
     },
     "output_type": "display_data"
    }
   ],
   "source": [
    "# Acquiring Institution to categorical variable\n",
    "banklist_dt['Acquiring Institution Code'] = banklist_dt['Acquiring Institution'].astype('category').cat.codes\n",
    "\n",
    "# Add jittering to Acquiring Institution Code\n",
    "jitter = np.random.normal(0, 0.1, size=banklist_dt['Acquiring Institution Code'].shape)\n",
    "banklist_dt['Acquiring Institution Code Jittered'] = banklist_dt['Acquiring Institution Code'] + jitter\n",
    "\n",
    "# Scatered plot size\n",
    "plt.figure(figsize=(16, 9))\n",
    "\n",
    "# Scatered plot\n",
    "plt.scatter(banklist_dt['Cert'], banklist_dt['Acquiring Institution Code Jittered'], alpha=0.5, c=banklist_dt['Acquiring Institution Code'], cmap='viridis')\n",
    "\n",
    "# Title\n",
    "plt.title('Relationship Between Certification Numbers and Acquiring Institutions', size=25)\n",
    "\n",
    "# X axis label\n",
    "plt.xlabel('Certification Number', size=16)\n",
    "\n",
    "# Y axis label\n",
    "plt.ylabel('Acquiring Institution (Encoded)', size=16)\n",
    "\n",
    "# Scatered plot color bar\n",
    "plt.colorbar(label='Acquiring Institution Code')\n",
    "\n",
    "plt.show()"
   ]
  },
  {
   "cell_type": "markdown",
   "id": "a24c936b",
   "metadata": {},
   "source": [
    "### c. Interpret the result. Explain your findings. "
   ]
  },
  {
   "cell_type": "markdown",
   "id": "2e220f59",
   "metadata": {},
   "source": [
    "### The plot revealed patterns indicating the acquiring institutions tend to acquire banks with specific certification numbers. The findings show that larger banks with higher certification numbers acquired failed national banks."
   ]
  },
  {
   "cell_type": "markdown",
   "id": "ee4e65fb",
   "metadata": {},
   "source": [
    "## How has the frequency of bank failures changed over time?"
   ]
  },
  {
   "cell_type": "code",
   "execution_count": 14,
   "id": "01e0b731",
   "metadata": {},
   "outputs": [
    {
     "data": {
      "image/png": "[encoded data removed]",
      "text/plain": [
       "<Figure size 1152x648 with 1 Axes>"
      ]
     },
     "metadata": {
      "needs_background": "light"
     },
     "output_type": "display_data"
    }
   ],
   "source": [
    "# Year from the Closing Date\n",
    "banklist_dt['Year'] = banklist_dt['Closing Date'].dt.year\n",
    "\n",
    "# Number of bank failures per year\n",
    "failures_per_year = banklist_dt['Year'].value_counts().sort_index()\n",
    "\n",
    "# Bar plot size\n",
    "plt.figure(figsize=(16, 9))\n",
    "\n",
    "failures_per_year.plot(kind='bar')\n",
    "\n",
    "# Title\n",
    "plt.title('Frequency of Bank Failures Over Time', size=25)\n",
    "\n",
    "# X axis label\n",
    "plt.xlabel('Year', size=16)\n",
    "\n",
    "# X axis label\n",
    "plt.ylabel('Number of Bank Failures', size=16)\n",
    "\n",
    "plt.show()"
   ]
  },
  {
   "cell_type": "markdown",
   "id": "70a4a420",
   "metadata": {},
   "source": [
    "### c. Interpret the result. Explain your findings. "
   ]
  },
  {
   "cell_type": "markdown",
   "id": "1e739bd9",
   "metadata": {},
   "source": [
    "### The plot revealed trends over time. The spikes indicate bank failures during economic downturns or financial crises. For instance, bank failures increased during the 2008 to 2012 financial crisis."
   ]
  },
  {
   "cell_type": "markdown",
   "id": "31211e5a",
   "metadata": {},
   "source": [
    "## 4. Summarize the main findings from this project as well as what you failed to find from the results. Describe what you need to further explore about the topic"
   ]
  },
  {
   "cell_type": "markdown",
   "id": "8717253c",
   "metadata": {},
   "source": [
    "### Summary: The graph shows the number of failed banks by state over a specified period. Overall, the data reveals significant trends in the geographic distribution and frequency of bank failures. Georgia has the highest number of 93, followed by Florida with 76, Illinois with 69 failed banks, and the other states below 50 failed banks.\n",
    "### The unnoticed trend in the graph is the state with the lowest bank failures. Wisconsin, Massachusetts, South Dakota, New Hampshire, and Hawaii have the lowest bank failure rates at 1, and I could safely say there is financial stability in those states."
   ]
  },
  {
   "cell_type": "markdown",
   "id": "dd48024e",
   "metadata": {},
   "source": [
    "### I could not figure out if there is any noticeable relationship between certification numbers and funds, suggesting patterns in bank acquisitions."
   ]
  },
  {
   "cell_type": "markdown",
   "id": "67768b47",
   "metadata": {},
   "source": [
    "### Further Exploration: Investigate the underlying causes of high bank failure rates in those specific states, then analyze the impact of economic factors on bank failures. Finally, Explore the role of regulatory changes in the frequency of bank failures."
   ]
  },
  {
   "cell_type": "code",
   "execution_count": null,
   "id": "94bd88cf",
   "metadata": {},
   "outputs": [],
   "source": []
  }
 ],
 "metadata": {
  "kernelspec": {
   "display_name": "Python 3 (ipykernel)",
   "language": "python",
   "name": "python3"
  },
  "language_info": {
   "codemirror_mode": {
    "name": "ipython",
    "version": 3
   },
   "file_extension": ".py",
   "mimetype": "text/x-python",
   "name": "python",
   "nbconvert_exporter": "python",
   "pygments_lexer": "ipython3",
   "version": "3.9.12"
  }
 },
 "nbformat": 4,
 "nbformat_minor": 5
}
